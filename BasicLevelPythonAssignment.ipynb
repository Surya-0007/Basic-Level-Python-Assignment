{
  "nbformat": 4,
  "nbformat_minor": 0,
  "metadata": {
    "colab": {
      "provenance": [],
      "authorship_tag": "ABX9TyMVJTN+DTpwUTiZ0v/zxu0/",
      "include_colab_link": true
    },
    "kernelspec": {
      "name": "python3",
      "display_name": "Python 3"
    },
    "language_info": {
      "name": "python"
    }
  },
  "cells": [
    {
      "cell_type": "markdown",
      "metadata": {
        "id": "view-in-github",
        "colab_type": "text"
      },
      "source": [
        "<a href=\"https://colab.research.google.com/github/Surya-0007/Basic-Level-Python-Assignment/blob/main/BasicLevelPythonAssignment.ipynb\" target=\"_parent\"><img src=\"https://colab.research.google.com/assets/colab-badge.svg\" alt=\"Open In Colab\"/></a>"
      ]
    },
    {
      "cell_type": "markdown",
      "source": [
        "**Q1. L is a list defined as L= [11, 12, 13, 14].**\n",
        "\n",
        "(i) WAP to add 50 and 60 to L."
      ],
      "metadata": {
        "id": "yJ-8lPPTYSXi"
      }
    },
    {
      "cell_type": "code",
      "source": [
        "L = [11, 12, 13, 14];\n",
        "L.append(50);\n",
        "L.append(60);\n",
        "print(\"After Adding 50 and 60--->\",  L);"
      ],
      "metadata": {
        "colab": {
          "base_uri": "https://localhost:8080/"
        },
        "id": "y-bn9gRpYpeZ",
        "outputId": "2a913ac4-b8fb-4a99-d625-8216e1b0d9e1"
      },
      "execution_count": null,
      "outputs": [
        {
          "output_type": "stream",
          "name": "stdout",
          "text": [
            "After Adding 50 and 60---> [11, 12, 13, 14, 50, 60]\n"
          ]
        }
      ]
    },
    {
      "cell_type": "markdown",
      "source": [
        "(ii) WAP to remove 11 and 13 from L."
      ],
      "metadata": {
        "id": "qeRWksZpYy2e"
      }
    },
    {
      "cell_type": "code",
      "source": [
        "L = [11, 12, 13, 14, 50, 60];\n",
        "L.remove(11);\n",
        "L.remove(13);\n",
        "print(\"After Deleting--->\", L);"
      ],
      "metadata": {
        "colab": {
          "base_uri": "https://localhost:8080/"
        },
        "id": "J4jdP_eYY1G5",
        "outputId": "4b2def59-eb4b-4d2c-daa0-22326b29da53"
      },
      "execution_count": null,
      "outputs": [
        {
          "output_type": "stream",
          "name": "stdout",
          "text": [
            "After Deleting---> [12, 14, 50, 60]\n"
          ]
        }
      ]
    },
    {
      "cell_type": "markdown",
      "source": [
        "(iii) WAP to sort L in ascending order"
      ],
      "metadata": {
        "id": "diFDpgK6Y8vg"
      }
    },
    {
      "cell_type": "code",
      "source": [
        "L.sort()\n",
        "print(\"After Soring in ascendind order--->\", L);"
      ],
      "metadata": {
        "colab": {
          "base_uri": "https://localhost:8080/"
        },
        "id": "pRjsMdxFY_oX",
        "outputId": "1b112190-e727-4326-dbfb-7c42c1a67416"
      },
      "execution_count": null,
      "outputs": [
        {
          "output_type": "stream",
          "name": "stdout",
          "text": [
            "After Soring in ascendind order---> [12, 13, 50, 60]\n"
          ]
        }
      ]
    },
    {
      "cell_type": "markdown",
      "source": [
        "(iv) WAP to sort L in descending order."
      ],
      "metadata": {
        "id": "s1vjeaJPZDbl"
      }
    },
    {
      "cell_type": "code",
      "source": [
        "L.sort(reverse = True)\n",
        "print(\"After Soring in descending order--->\", L);"
      ],
      "metadata": {
        "colab": {
          "base_uri": "https://localhost:8080/"
        },
        "id": "GSBJCSDqZGHs",
        "outputId": "561bc933-1b16-4083-9d8f-8e8f8eb8c1f3"
      },
      "execution_count": null,
      "outputs": [
        {
          "output_type": "stream",
          "name": "stdout",
          "text": [
            "After Soring in descending order---> [60, 50, 13, 12]\n"
          ]
        }
      ]
    },
    {
      "cell_type": "markdown",
      "source": [
        "(v) WAP to search for 13 in L.\n"
      ],
      "metadata": {
        "id": "a9ixI22XZRlK"
      }
    },
    {
      "cell_type": "code",
      "source": [
        "if (13 in L):\n",
        " print(\"Present\");\n",
        "else:\n",
        " print(\"Absent\");"
      ],
      "metadata": {
        "colab": {
          "base_uri": "https://localhost:8080/"
        },
        "id": "cyQj4TGcZTx7",
        "outputId": "b495d492-521e-48f4-99b2-4c0af78eedd2"
      },
      "execution_count": null,
      "outputs": [
        {
          "output_type": "stream",
          "name": "stdout",
          "text": [
            "Present\n"
          ]
        }
      ]
    },
    {
      "cell_type": "markdown",
      "source": [
        "(vi) WAP to count the number of elements present in L."
      ],
      "metadata": {
        "id": "4W8O5kgOZdrb"
      }
    },
    {
      "cell_type": "code",
      "source": [
        "print(\"No. of elements in L--->\", len(L)); #It is the new L after adding 50 and 60 and deleting 11"
      ],
      "metadata": {
        "colab": {
          "base_uri": "https://localhost:8080/"
        },
        "id": "QbFcBYS7Zgh6",
        "outputId": "401f0999-71c5-44cf-8a82-a6f05178b3ef"
      },
      "execution_count": null,
      "outputs": [
        {
          "output_type": "stream",
          "name": "stdout",
          "text": [
            "No. of elements in L---> 4\n"
          ]
        }
      ]
    },
    {
      "cell_type": "markdown",
      "source": [
        "(vii) WAP to sum all the elements in L."
      ],
      "metadata": {
        "id": "3Q3zkphVbU4q"
      }
    },
    {
      "cell_type": "code",
      "source": [
        "print(\"Sum is--->\", sum(L));"
      ],
      "metadata": {
        "colab": {
          "base_uri": "https://localhost:8080/"
        },
        "id": "6btDX7BHbXTV",
        "outputId": "b3fc9372-1e44-4812-af02-924f887170f7"
      },
      "execution_count": null,
      "outputs": [
        {
          "output_type": "stream",
          "name": "stdout",
          "text": [
            "Sum is---> 136\n"
          ]
        }
      ]
    },
    {
      "cell_type": "markdown",
      "source": [
        "(viii) WAP to sum all ODD numbers in L."
      ],
      "metadata": {
        "id": "SPgpzuDEbcQg"
      }
    },
    {
      "cell_type": "code",
      "source": [
        "L = [12, 13, 50, 60];\n",
        "sum = 0;\n",
        "for i in range(4):\n",
        "    if (L[i])%2 == 1:\n",
        "        sum += L[i];\n",
        "print(sum);"
      ],
      "metadata": {
        "colab": {
          "base_uri": "https://localhost:8080/"
        },
        "id": "Md7sB3vHbfMW",
        "outputId": "e8da737f-1f35-48a9-b465-5ba9a8ab850c"
      },
      "execution_count": null,
      "outputs": [
        {
          "output_type": "stream",
          "name": "stdout",
          "text": [
            "13\n"
          ]
        }
      ]
    },
    {
      "cell_type": "markdown",
      "source": [
        "(ix) WAP to sum all EVEN numbers in L."
      ],
      "metadata": {
        "id": "RS35AnlxgJ3V"
      }
    },
    {
      "cell_type": "code",
      "source": [
        "L = [12, 13, 50, 60];\n",
        "sum = 0;\n",
        "for i in range(4):\n",
        "    if (L[i])%2 == 0:\n",
        "        sum += L[i];\n",
        "print(sum);"
      ],
      "metadata": {
        "colab": {
          "base_uri": "https://localhost:8080/"
        },
        "id": "HhT7JR-cgOA0",
        "outputId": "7bc372a4-1a37-40c2-aaf6-99c8dd6968a7"
      },
      "execution_count": null,
      "outputs": [
        {
          "output_type": "stream",
          "name": "stdout",
          "text": [
            "122\n"
          ]
        }
      ]
    },
    {
      "cell_type": "markdown",
      "source": [
        "(x) WAP to sum all PRIME numbers in L."
      ],
      "metadata": {
        "id": "ugslwcbogT8a"
      }
    },
    {
      "cell_type": "code",
      "source": [
        "L = [12, 13, 50, 60];\n",
        "def is_prime(num):\n",
        "    if num <= 1:\n",
        "        return False\n",
        "    for i in range(2, int(num**0.5) + 1):\n",
        "        if num % i == 0:\n",
        "            return False\n",
        "    return True\n",
        "\n",
        "def sum_prime_numbers(lst):\n",
        "    prime_sum = 0\n",
        "    for num in lst:\n",
        "      if is_prime(num):\n",
        "            prime_sum += num\n",
        "    return prime_sum\n",
        "\n",
        "L = [12, 13, 50, 60]\n",
        "sum_of_primes = sum_prime_numbers(L)\n",
        "print(sum_of_primes)"
      ],
      "metadata": {
        "colab": {
          "base_uri": "https://localhost:8080/"
        },
        "id": "dev4AShwgXxu",
        "outputId": "2d2e7082-e0ac-408c-d16d-845916385097"
      },
      "execution_count": 10,
      "outputs": [
        {
          "output_type": "stream",
          "name": "stdout",
          "text": [
            "13\n"
          ]
        }
      ]
    },
    {
      "cell_type": "markdown",
      "source": [
        "(xi) WAP to clear all the elements in L."
      ],
      "metadata": {
        "id": "fpyUhHUWD7CZ"
      }
    },
    {
      "cell_type": "code",
      "source": [
        "L = [12, 13, 50, 60]\n",
        "\n",
        "L.clear();\n",
        "\n",
        "print(L);"
      ],
      "metadata": {
        "colab": {
          "base_uri": "https://localhost:8080/"
        },
        "id": "OafrWtlaEC1w",
        "outputId": "70c94066-2e94-4660-87e2-5d09d14d313c"
      },
      "execution_count": 11,
      "outputs": [
        {
          "output_type": "stream",
          "name": "stdout",
          "text": [
            "[]\n"
          ]
        }
      ]
    },
    {
      "cell_type": "markdown",
      "source": [
        "(xii) WAP to delete L."
      ],
      "metadata": {
        "id": "RfjT1S7BESYL"
      }
    },
    {
      "cell_type": "code",
      "source": [
        "L = [12, 13, 50, 60]\n",
        "del(L);\n",
        "#pritn(L)"
      ],
      "metadata": {
        "id": "6ELfLko6EPV1"
      },
      "execution_count": 14,
      "outputs": []
    },
    {
      "cell_type": "markdown",
      "source": [
        "**Q2. D is a dictionary defined as D= {1:5.6, 2:7.8, 3:6.6, 4:8.7, 5:7.7}.**"
      ],
      "metadata": {
        "id": "Uxk_I_ujEqrQ"
      }
    },
    {
      "cell_type": "markdown",
      "source": [
        "(i) WAP to add new entry in D; key=8 and value is 8.8"
      ],
      "metadata": {
        "id": "ox6c0FKaEzCT"
      }
    },
    {
      "cell_type": "code",
      "source": [
        "D= {1:5.6, 2:7.8, 3:6.6, 4:8.7, 5:7.7}\n",
        "D[8] = 8.8\n",
        "print(D);"
      ],
      "metadata": {
        "colab": {
          "base_uri": "https://localhost:8080/"
        },
        "id": "iRjscWPuE9zO",
        "outputId": "0a3947da-d768-4181-cb61-8d39a096bfba"
      },
      "execution_count": 15,
      "outputs": [
        {
          "output_type": "stream",
          "name": "stdout",
          "text": [
            "{1: 5.6, 2: 7.8, 3: 6.6, 4: 8.7, 5: 7.7, 8: 8.8}\n"
          ]
        }
      ]
    },
    {
      "cell_type": "markdown",
      "source": [
        "(ii) WAP to remove key=2"
      ],
      "metadata": {
        "id": "avp2chnkFjo8"
      }
    },
    {
      "cell_type": "code",
      "source": [
        "del(D[2]);\n",
        "print(D);"
      ],
      "metadata": {
        "colab": {
          "base_uri": "https://localhost:8080/"
        },
        "id": "wQGsMGXyFnka",
        "outputId": "a4cd087b-bb98-4b04-a307-d29e3032d6fe"
      },
      "execution_count": 16,
      "outputs": [
        {
          "output_type": "stream",
          "name": "stdout",
          "text": [
            "{1: 5.6, 3: 6.6, 4: 8.7, 5: 7.7, 8: 8.8}\n"
          ]
        }
      ]
    },
    {
      "cell_type": "markdown",
      "source": [
        "(iii) WAP to check weather 6 key is present in D."
      ],
      "metadata": {
        "id": "CVR4TWusFyLl"
      }
    },
    {
      "cell_type": "code",
      "source": [
        "if 6 in D:\n",
        "  print(\"Present\");\n",
        "else:\n",
        "  print(\"Absent\");"
      ],
      "metadata": {
        "colab": {
          "base_uri": "https://localhost:8080/"
        },
        "id": "HXJ_TNd5F1Yb",
        "outputId": "5431e13c-1fb7-4efb-d13c-79f8f71da2f6"
      },
      "execution_count": 35,
      "outputs": [
        {
          "output_type": "stream",
          "name": "stdout",
          "text": [
            "Absent\n"
          ]
        }
      ]
    },
    {
      "cell_type": "markdown",
      "source": [
        "(iv) WAP to count the number of elements present in D."
      ],
      "metadata": {
        "id": "AwQAeYYBJFpt"
      }
    },
    {
      "cell_type": "code",
      "source": [
        "print(len(D));"
      ],
      "metadata": {
        "colab": {
          "base_uri": "https://localhost:8080/"
        },
        "id": "N5l_137TJI6S",
        "outputId": "f5c588b5-c34b-444d-ab96-d0bbcfccb61f"
      },
      "execution_count": 36,
      "outputs": [
        {
          "output_type": "stream",
          "name": "stdout",
          "text": [
            "5\n"
          ]
        }
      ]
    },
    {
      "cell_type": "markdown",
      "source": [
        "(v) WAP to add all the values present D."
      ],
      "metadata": {
        "id": "XuViwxqSJfbA"
      }
    },
    {
      "cell_type": "code",
      "source": [
        "print(sum(D)); #Sum of Keys"
      ],
      "metadata": {
        "colab": {
          "base_uri": "https://localhost:8080/"
        },
        "id": "Qdbvz4y9JjYN",
        "outputId": "d2da3378-ef2e-4fee-bf4f-33c61dc0fec3"
      },
      "execution_count": 40,
      "outputs": [
        {
          "output_type": "stream",
          "name": "stdout",
          "text": [
            "21\n"
          ]
        }
      ]
    },
    {
      "cell_type": "code",
      "source": [
        "print(sum(D.values())); # Sum of Values"
      ],
      "metadata": {
        "colab": {
          "base_uri": "https://localhost:8080/"
        },
        "id": "kZ2o8wkxJ1ny",
        "outputId": "2e82a03c-e304-47c1-a453-621a4574221a"
      },
      "execution_count": 39,
      "outputs": [
        {
          "output_type": "stream",
          "name": "stdout",
          "text": [
            "37.4\n"
          ]
        }
      ]
    },
    {
      "cell_type": "markdown",
      "source": [
        "(vi) WAP to update the value of 3 to 7.1."
      ],
      "metadata": {
        "id": "IlrBrgCSKBge"
      }
    },
    {
      "cell_type": "code",
      "source": [
        "D[3] = 7.1\n",
        "print(D)"
      ],
      "metadata": {
        "colab": {
          "base_uri": "https://localhost:8080/"
        },
        "id": "hwe9J6exKH_U",
        "outputId": "75c29d45-2677-4600-fe61-e2bbb3fe8688"
      },
      "execution_count": 41,
      "outputs": [
        {
          "output_type": "stream",
          "name": "stdout",
          "text": [
            "{1: 5.6, 3: 7.1, 4: 8.7, 5: 7.7, 8: 8.8}\n"
          ]
        }
      ]
    },
    {
      "cell_type": "markdown",
      "source": [
        "(vii) WAP to clear the dictionary."
      ],
      "metadata": {
        "id": "XjCVNDCyKQkZ"
      }
    },
    {
      "cell_type": "code",
      "source": [
        "D.clear();\n",
        "print(D);"
      ],
      "metadata": {
        "colab": {
          "base_uri": "https://localhost:8080/"
        },
        "id": "GDloUHp3KT3S",
        "outputId": "788836dd-2beb-4f4c-a9a6-f4185b2b908d"
      },
      "execution_count": 44,
      "outputs": [
        {
          "output_type": "stream",
          "name": "stdout",
          "text": [
            "{}\n"
          ]
        }
      ]
    },
    {
      "cell_type": "markdown",
      "source": [
        "**Q3. S1 is a set defined as S1= [10, 20, 30, 40, 50, 60].**\n",
        "\n",
        " **S2 is a set defined as S2= [40, 50, 60, 70, 80, 90].**"
      ],
      "metadata": {
        "id": "BNjSnoAvKfES"
      }
    },
    {
      "cell_type": "markdown",
      "source": [
        "(i) WAP to add 55 and 66 in Set S1.\n",
        "\n",
        "---\n",
        "\n"
      ],
      "metadata": {
        "id": "HsBxcvJRK5Ez"
      }
    },
    {
      "cell_type": "code",
      "source": [
        "S1= set([10, 20, 30, 40, 50, 60])\n",
        "S2= set([40, 50, 60, 70, 80, 90])\n",
        "\n",
        "S1.add(55)\n",
        "S1.add(66)\n",
        "\n",
        "print(S1)"
      ],
      "metadata": {
        "colab": {
          "base_uri": "https://localhost:8080/"
        },
        "id": "_AWOSmUkK-mu",
        "outputId": "6ccdfc23-2fbe-4064-a390-fce2183df5e6"
      },
      "execution_count": 52,
      "outputs": [
        {
          "output_type": "stream",
          "name": "stdout",
          "text": [
            "{66, 40, 10, 50, 20, 55, 60, 30}\n"
          ]
        }
      ]
    },
    {
      "cell_type": "markdown",
      "source": [
        "(ii) WAP to remove 10 and 30 from Set S1."
      ],
      "metadata": {
        "id": "z06YwHf1NCsF"
      }
    },
    {
      "cell_type": "code",
      "source": [
        "S1.remove(10)\n",
        "S1.remove(30)\n",
        "print(S1)"
      ],
      "metadata": {
        "colab": {
          "base_uri": "https://localhost:8080/"
        },
        "id": "9lwDm6_qNFol",
        "outputId": "a8d2ce09-7f29-4cd0-80f3-f488e3fcb207"
      },
      "execution_count": 54,
      "outputs": [
        {
          "output_type": "stream",
          "name": "stdout",
          "text": [
            "{66, 40, 50, 20, 55, 60}\n"
          ]
        }
      ]
    },
    {
      "cell_type": "markdown",
      "source": [
        "(iii) WAP to check whether 40 is present in S1."
      ],
      "metadata": {
        "id": "tNGklpMdNPpS"
      }
    },
    {
      "cell_type": "code",
      "source": [
        "if 40 in S1:\n",
        "  print(\"Present\");\n",
        "else:\n",
        "  print(\"Absent\");"
      ],
      "metadata": {
        "colab": {
          "base_uri": "https://localhost:8080/"
        },
        "id": "bL1Vpx32NTma",
        "outputId": "3d24ac24-a978-43ad-cbbc-96895e1a123a"
      },
      "execution_count": 59,
      "outputs": [
        {
          "output_type": "stream",
          "name": "stdout",
          "text": [
            "Present\n"
          ]
        }
      ]
    },
    {
      "cell_type": "markdown",
      "source": [
        "(iv) WAP to find the union between S1 and S2.\n"
      ],
      "metadata": {
        "id": "pgB0vMGuNhFY"
      }
    },
    {
      "cell_type": "code",
      "source": [
        "print(S1.union(S2));"
      ],
      "metadata": {
        "colab": {
          "base_uri": "https://localhost:8080/"
        },
        "id": "XNbFX2G3Nlz-",
        "outputId": "a7d410d0-1939-43a5-c3a4-dec07a96309d"
      },
      "execution_count": 61,
      "outputs": [
        {
          "output_type": "stream",
          "name": "stdout",
          "text": [
            "{66, 70, 40, 80, 50, 20, 55, 90, 60}\n"
          ]
        }
      ]
    },
    {
      "cell_type": "markdown",
      "source": [
        "(v) WAP to find the intersection between S1 and S2."
      ],
      "metadata": {
        "id": "KJv3YAHrN0y3"
      }
    },
    {
      "cell_type": "code",
      "source": [
        "print(S1.intersection(S2));"
      ],
      "metadata": {
        "colab": {
          "base_uri": "https://localhost:8080/"
        },
        "id": "E3ojH_4aN3jq",
        "outputId": "612679bd-0be9-4085-f3c6-83822b18f083"
      },
      "execution_count": 62,
      "outputs": [
        {
          "output_type": "stream",
          "name": "stdout",
          "text": [
            "{40, 50, 60}\n"
          ]
        }
      ]
    },
    {
      "cell_type": "markdown",
      "source": [
        "(vi) WAP to find the S1 - S2."
      ],
      "metadata": {
        "id": "oeTbdwsmOB3A"
      }
    },
    {
      "cell_type": "code",
      "source": [
        "print(S1.difference(S2)); # Also we can use a - b"
      ],
      "metadata": {
        "colab": {
          "base_uri": "https://localhost:8080/"
        },
        "id": "FytipahWOCbo",
        "outputId": "b865221e-b9eb-4112-b0b6-42fabb15c22f"
      },
      "execution_count": 63,
      "outputs": [
        {
          "output_type": "stream",
          "name": "stdout",
          "text": [
            "{66, 20, 55}\n"
          ]
        }
      ]
    },
    {
      "cell_type": "markdown",
      "source": [
        "**Q4. Write the following program.**\n"
      ],
      "metadata": {
        "id": "66gT7IwJOWri"
      }
    },
    {
      "cell_type": "markdown",
      "source": [
        "(i) WAP to print 100 random strings whose length between 6 and 8."
      ],
      "metadata": {
        "id": "X1FcNfJDOc3l"
      }
    },
    {
      "cell_type": "code",
      "source": [
        "import random\n",
        "import string\n",
        "\n",
        "def generate_random_string(min_length, max_length):\n",
        "    length = random.randint(min_length, max_length)\n",
        "    letters = string.ascii_lowercase\n",
        "    return ''.join(random.choice(letters) for _ in range(length))\n",
        "\n",
        "# Generate and print 100 random strings\n",
        "for _ in range(100):\n",
        "    random_string = generate_random_string(6, 8)\n",
        "    print(random_string)\n"
      ],
      "metadata": {
        "colab": {
          "base_uri": "https://localhost:8080/"
        },
        "id": "HVXIwMkEOgJ4",
        "outputId": "3857bfcb-fe3f-4415-b9fe-b1362ba9478a"
      },
      "execution_count": 2,
      "outputs": [
        {
          "output_type": "stream",
          "name": "stdout",
          "text": [
            "huknkei\n",
            "cwbpyfcj\n",
            "jaklby\n",
            "tvkezp\n",
            "whptglea\n",
            "csvtmfq\n",
            "gpzflx\n",
            "qfdzgt\n",
            "dwjozjh\n",
            "texfxc\n",
            "sqgqeb\n",
            "ucwwsj\n",
            "agfmlhuj\n",
            "qxlkpc\n",
            "nqezcy\n",
            "nywsrtwo\n",
            "pocfzdj\n",
            "rzhmkjw\n",
            "xtvbrjb\n",
            "sagzhknb\n",
            "vyyhzhdl\n",
            "tsydsd\n",
            "hqojyyqo\n",
            "ujevcmav\n",
            "dqpbhjyt\n",
            "zogcvuqe\n",
            "mbawjul\n",
            "ecclseq\n",
            "parfwd\n",
            "kgdtphc\n",
            "utxpfwlg\n",
            "omtamh\n",
            "ealzbmme\n",
            "zvmksf\n",
            "azbifex\n",
            "rpvmmu\n",
            "jevnnztu\n",
            "jrsfngz\n",
            "xpzfmswd\n",
            "wopmpgei\n",
            "lifnkpa\n",
            "bgafwmi\n",
            "dgcdyacs\n",
            "excwuymp\n",
            "avwndc\n",
            "ogmnneh\n",
            "qvkhtl\n",
            "oorkwl\n",
            "utiyox\n",
            "tkyaclp\n",
            "sorxrh\n",
            "avuleyug\n",
            "hyfpetsn\n",
            "vwkuhtgp\n",
            "bvzsvfy\n",
            "jljbqywl\n",
            "dvzwfvll\n",
            "ljepzr\n",
            "mamijcgj\n",
            "rvdfvkl\n",
            "wuxwtb\n",
            "rrqlrl\n",
            "jrgtdrwu\n",
            "pkuafvx\n",
            "vwgslg\n",
            "lecgepze\n",
            "uvvvrvq\n",
            "ppznvk\n",
            "cylehnl\n",
            "dmzgvf\n",
            "zdtlfpx\n",
            "vnboaxq\n",
            "kbtitsy\n",
            "azmyqe\n",
            "owrliu\n",
            "fadiglio\n",
            "fejmkb\n",
            "zmrclaq\n",
            "fgsrsj\n",
            "xmmtexw\n",
            "sqdihzu\n",
            "ofgnjpa\n",
            "ipanpgd\n",
            "dxwwex\n",
            "hkigbn\n",
            "adfkfqvm\n",
            "llwltze\n",
            "egagveer\n",
            "sowige\n",
            "ykldqaf\n",
            "ehszgjxl\n",
            "dszmbg\n",
            "wixvuz\n",
            "vycvzwor\n",
            "jouwcbzh\n",
            "htngfsk\n",
            "cbdaxkz\n",
            "wdqvuvd\n",
            "qxifurh\n",
            "expuju\n"
          ]
        }
      ]
    },
    {
      "cell_type": "markdown",
      "source": [
        "(ii) WAP to print all prime numbers between 600 and 800."
      ],
      "metadata": {
        "id": "3brrX8NJ-ccn"
      }
    },
    {
      "cell_type": "code",
      "source": [
        "def is_prime(num):\n",
        "    if num <= 1:\n",
        "        return False\n",
        "    for i in range(2, int(num**0.5) + 1):\n",
        "        if num % i == 0:\n",
        "            return False\n",
        "    return True\n",
        "\n",
        "start_range = 600\n",
        "end_range = 800\n",
        "\n",
        "print(\"Prime numbers between 600 and 800:\")\n",
        "for num in range(start_range, end_range + 1):\n",
        "    if is_prime(num):\n",
        "        print(num)\n"
      ],
      "metadata": {
        "colab": {
          "base_uri": "https://localhost:8080/"
        },
        "id": "dZ8eECnt-gZ9",
        "outputId": "f60615cd-2ab6-4fbc-dd83-59799c34dc6c"
      },
      "execution_count": 88,
      "outputs": [
        {
          "output_type": "stream",
          "name": "stdout",
          "text": [
            "Prime numbers between 600 and 800:\n",
            "601\n",
            "607\n",
            "613\n",
            "617\n",
            "619\n",
            "631\n",
            "641\n",
            "643\n",
            "647\n",
            "653\n",
            "659\n",
            "661\n",
            "673\n",
            "677\n",
            "683\n",
            "691\n",
            "701\n",
            "709\n",
            "719\n",
            "727\n",
            "733\n",
            "739\n",
            "743\n",
            "751\n",
            "757\n",
            "761\n",
            "769\n",
            "773\n",
            "787\n",
            "797\n"
          ]
        }
      ]
    },
    {
      "cell_type": "markdown",
      "source": [
        "(iii) WAP to print all numbers between 100 and 1000 that are divisible by 7 and 9."
      ],
      "metadata": {
        "id": "u5bT6TjeBpEb"
      }
    },
    {
      "cell_type": "code",
      "source": [
        "def isDivisible(num):\n",
        "  if (num)%(7) == 0 and (num)%(9) == 0:\n",
        "    return True\n",
        "  else:\n",
        "    return False\n",
        "start_num = 100;\n",
        "end_num = 1000;\n",
        "for i in range(start_num, end_num + 1):\n",
        "  if isDivisible(i):\n",
        "    print(i)"
      ],
      "metadata": {
        "colab": {
          "base_uri": "https://localhost:8080/"
        },
        "id": "0D3f15bsBr4u",
        "outputId": "334f0405-b3aa-4ad4-eb63-5629c0000fb5"
      },
      "execution_count": 22,
      "outputs": [
        {
          "output_type": "stream",
          "name": "stdout",
          "text": [
            "126\n",
            "189\n",
            "252\n",
            "315\n",
            "378\n",
            "441\n",
            "504\n",
            "567\n",
            "630\n",
            "693\n",
            "756\n",
            "819\n",
            "882\n",
            "945\n"
          ]
        }
      ]
    },
    {
      "cell_type": "markdown",
      "source": [
        "**Q5. WAP to create two lists of 10 random numbers between 10 and 30; Find**"
      ],
      "metadata": {
        "id": "XoTbwiISD9-n"
      }
    },
    {
      "cell_type": "markdown",
      "source": [
        "(i) Common numbers in the two lists\n"
      ],
      "metadata": {
        "id": "C_yoWcXlEDKp"
      }
    },
    {
      "cell_type": "code",
      "source": [
        "import random as r\n",
        "\n",
        "def generate_random_numbers():\n",
        "    return [r.randint(10, 30) for _ in range(10)]\n",
        "\n",
        "list1 = generate_random_numbers()\n",
        "list2 = generate_random_numbers()\n",
        "\n",
        "print(\"List 1:\", list1)\n",
        "print(\"List 2:\", list2)\n",
        "\n",
        "common_num = set(list1) & set(list2);\n",
        "\n",
        "list(common_num)"
      ],
      "metadata": {
        "colab": {
          "base_uri": "https://localhost:8080/"
        },
        "id": "z5IuQ3GOEGs7",
        "outputId": "b9026870-f5e3-43e1-a0f7-e7028491734e"
      },
      "execution_count": 26,
      "outputs": [
        {
          "output_type": "stream",
          "name": "stdout",
          "text": [
            "List 1: [18, 15, 27, 28, 11, 23, 17, 25, 10, 10]\n",
            "List 2: [25, 23, 29, 13, 10, 27, 30, 20, 23, 11]\n"
          ]
        },
        {
          "output_type": "execute_result",
          "data": {
            "text/plain": [
              "[10, 11, 23, 25, 27]"
            ]
          },
          "metadata": {},
          "execution_count": 26
        }
      ]
    },
    {
      "cell_type": "markdown",
      "source": [
        "(ii) Unique numbers in both the list"
      ],
      "metadata": {
        "id": "_D9VrIVvFqD2"
      }
    },
    {
      "cell_type": "code",
      "source": [
        "print(\"Unique numbers in list1\", set(list1) - set(common_num));\n",
        "print(\"Unique numbers in list2\", set(list2) - set(common_num));"
      ],
      "metadata": {
        "colab": {
          "base_uri": "https://localhost:8080/"
        },
        "id": "DtFEGOzgFzso",
        "outputId": "f645a419-89b8-437a-9318-1923088d5c78"
      },
      "execution_count": 30,
      "outputs": [
        {
          "output_type": "stream",
          "name": "stdout",
          "text": [
            "Unique numbers in list1 {17, 18, 28, 15}\n",
            "Unique numbers in list2 {29, 20, 13, 30}\n"
          ]
        }
      ]
    },
    {
      "cell_type": "markdown",
      "source": [
        "(iii) Minimum in both the list"
      ],
      "metadata": {
        "id": "pSW-BKN1GVXK"
      }
    },
    {
      "cell_type": "code",
      "source": [
        "print(\"Minimum number in the list1\", min(list1))\n",
        "print(\"Minimum number in the list2\", min(list2))"
      ],
      "metadata": {
        "colab": {
          "base_uri": "https://localhost:8080/"
        },
        "id": "3YqhGa6pGYlX",
        "outputId": "edc25e44-f03f-4166-d43e-7e4bf5e71ef6"
      },
      "execution_count": 32,
      "outputs": [
        {
          "output_type": "stream",
          "name": "stdout",
          "text": [
            "Minimum number in the list1 10\n",
            "Minimum number in the list2 10\n"
          ]
        }
      ]
    },
    {
      "cell_type": "markdown",
      "source": [
        "(iv) Maximum in both the list"
      ],
      "metadata": {
        "id": "zcJ2hE1IGsOC"
      }
    },
    {
      "cell_type": "code",
      "source": [
        "print(\"Maximum number in the list1\", max(list1))\n",
        "print(\"Maximum number in the list2\", max(list2))"
      ],
      "metadata": {
        "colab": {
          "base_uri": "https://localhost:8080/"
        },
        "id": "vAjJEJesGwTZ",
        "outputId": "89047eb2-6a53-4422-b276-6e3f3d5ffe14"
      },
      "execution_count": 33,
      "outputs": [
        {
          "output_type": "stream",
          "name": "stdout",
          "text": [
            "Maximum number in the list1 28\n",
            "Maximum number in the list2 30\n"
          ]
        }
      ]
    },
    {
      "cell_type": "markdown",
      "source": [
        "(v) Sum of both the lists"
      ],
      "metadata": {
        "id": "cTeCiY-BHAS8"
      }
    },
    {
      "cell_type": "code",
      "source": [
        "print(\"Sum number in the list1\", sum(list1))\n",
        "print(\"Sum number in the list2\", sum(list2))"
      ],
      "metadata": {
        "colab": {
          "base_uri": "https://localhost:8080/"
        },
        "id": "7eJFHWogHGAU",
        "outputId": "d1a06eb6-1796-441e-be65-e1cdef25daa3"
      },
      "execution_count": 36,
      "outputs": [
        {
          "output_type": "stream",
          "name": "stdout",
          "text": [
            "Sum number in the list1 184\n",
            "Sum number in the list2 211\n"
          ]
        }
      ]
    },
    {
      "cell_type": "markdown",
      "source": [
        "**Q6. WAP to create a list of 100 random numbers between 100 and 900.**\n",
        "**Count and print**"
      ],
      "metadata": {
        "id": "H9v_-KO2IQUK"
      }
    },
    {
      "cell_type": "markdown",
      "source": [
        "(i) All odd numbers"
      ],
      "metadata": {
        "id": "0uudWki4Ikrl"
      }
    },
    {
      "cell_type": "code",
      "source": [
        "import random as r\n",
        "def generate_random_numbers():\n",
        "    return [r.randint(100, 900) for _ in range(100)]\n",
        "list = generate_random_numbers()\n",
        "list"
      ],
      "metadata": {
        "colab": {
          "base_uri": "https://localhost:8080/"
        },
        "id": "RfAyzhXLIoYG",
        "outputId": "10d7865d-3079-4d60-a26e-2827e82bfaf0"
      },
      "execution_count": 40,
      "outputs": [
        {
          "output_type": "execute_result",
          "data": {
            "text/plain": [
              "[592,\n",
              " 245,\n",
              " 491,\n",
              " 393,\n",
              " 547,\n",
              " 492,\n",
              " 392,\n",
              " 647,\n",
              " 761,\n",
              " 236,\n",
              " 892,\n",
              " 709,\n",
              " 894,\n",
              " 768,\n",
              " 415,\n",
              " 822,\n",
              " 790,\n",
              " 589,\n",
              " 871,\n",
              " 486,\n",
              " 789,\n",
              " 172,\n",
              " 885,\n",
              " 356,\n",
              " 833,\n",
              " 216,\n",
              " 734,\n",
              " 561,\n",
              " 633,\n",
              " 822,\n",
              " 486,\n",
              " 434,\n",
              " 459,\n",
              " 594,\n",
              " 669,\n",
              " 385,\n",
              " 706,\n",
              " 385,\n",
              " 350,\n",
              " 121,\n",
              " 726,\n",
              " 629,\n",
              " 808,\n",
              " 348,\n",
              " 435,\n",
              " 624,\n",
              " 826,\n",
              " 299,\n",
              " 805,\n",
              " 216,\n",
              " 148,\n",
              " 760,\n",
              " 423,\n",
              " 702,\n",
              " 458,\n",
              " 621,\n",
              " 248,\n",
              " 869,\n",
              " 292,\n",
              " 827,\n",
              " 186,\n",
              " 364,\n",
              " 372,\n",
              " 250,\n",
              " 150,\n",
              " 899,\n",
              " 225,\n",
              " 666,\n",
              " 454,\n",
              " 653,\n",
              " 845,\n",
              " 522,\n",
              " 552,\n",
              " 462,\n",
              " 519,\n",
              " 709,\n",
              " 188,\n",
              " 445,\n",
              " 755,\n",
              " 333,\n",
              " 222,\n",
              " 346,\n",
              " 379,\n",
              " 804,\n",
              " 318,\n",
              " 865,\n",
              " 483,\n",
              " 122,\n",
              " 316,\n",
              " 545,\n",
              " 594,\n",
              " 214,\n",
              " 610,\n",
              " 234,\n",
              " 259,\n",
              " 413,\n",
              " 106,\n",
              " 513,\n",
              " 595,\n",
              " 420]"
            ]
          },
          "metadata": {},
          "execution_count": 40
        }
      ]
    },
    {
      "cell_type": "code",
      "source": [
        "for i in list:\n",
        "  if i%2 != 0:\n",
        "    print(i);"
      ],
      "metadata": {
        "colab": {
          "base_uri": "https://localhost:8080/"
        },
        "id": "rZKLGYETNNQe",
        "outputId": "8313f70d-5d97-4c60-c1e4-6e2f0ffa3a52"
      },
      "execution_count": 41,
      "outputs": [
        {
          "output_type": "stream",
          "name": "stdout",
          "text": [
            "245\n",
            "491\n",
            "393\n",
            "547\n",
            "647\n",
            "761\n",
            "709\n",
            "415\n",
            "589\n",
            "871\n",
            "789\n",
            "885\n",
            "833\n",
            "561\n",
            "633\n",
            "459\n",
            "669\n",
            "385\n",
            "385\n",
            "121\n",
            "629\n",
            "435\n",
            "299\n",
            "805\n",
            "423\n",
            "621\n",
            "869\n",
            "827\n",
            "899\n",
            "225\n",
            "653\n",
            "845\n",
            "519\n",
            "709\n",
            "445\n",
            "755\n",
            "333\n",
            "379\n",
            "865\n",
            "483\n",
            "545\n",
            "259\n",
            "413\n",
            "513\n",
            "595\n"
          ]
        }
      ]
    },
    {
      "cell_type": "markdown",
      "source": [
        "(ii) All even numbers"
      ],
      "metadata": {
        "id": "XaTI8D6MNcna"
      }
    },
    {
      "cell_type": "code",
      "source": [
        "for i in list:\n",
        "  if i%2 == 0:\n",
        "    print(i);"
      ],
      "metadata": {
        "colab": {
          "base_uri": "https://localhost:8080/"
        },
        "id": "1fIR0ocQNe6_",
        "outputId": "36b441ae-3402-41af-f13d-3ec55a8ff1fb"
      },
      "execution_count": 42,
      "outputs": [
        {
          "output_type": "stream",
          "name": "stdout",
          "text": [
            "592\n",
            "492\n",
            "392\n",
            "236\n",
            "892\n",
            "894\n",
            "768\n",
            "822\n",
            "790\n",
            "486\n",
            "172\n",
            "356\n",
            "216\n",
            "734\n",
            "822\n",
            "486\n",
            "434\n",
            "594\n",
            "706\n",
            "350\n",
            "726\n",
            "808\n",
            "348\n",
            "624\n",
            "826\n",
            "216\n",
            "148\n",
            "760\n",
            "702\n",
            "458\n",
            "248\n",
            "292\n",
            "186\n",
            "364\n",
            "372\n",
            "250\n",
            "150\n",
            "666\n",
            "454\n",
            "522\n",
            "552\n",
            "462\n",
            "188\n",
            "222\n",
            "346\n",
            "804\n",
            "318\n",
            "122\n",
            "316\n",
            "594\n",
            "214\n",
            "610\n",
            "234\n",
            "106\n",
            "420\n"
          ]
        }
      ]
    },
    {
      "cell_type": "markdown",
      "source": [
        "(iii) All prime numbers"
      ],
      "metadata": {
        "id": "98mMRdEkNjlZ"
      }
    },
    {
      "cell_type": "code",
      "source": [
        "import random as r\n",
        "def generate_random_numbers():\n",
        "    return [r.randint(100, 900) for _ in range(100)]\n",
        "list = generate_random_numbers()\n",
        "def isPrime(num):\n",
        "    if num <= 1:\n",
        "      return False\n",
        "    for x in range(2, int(num**0.5) + 1):\n",
        "        if (num)%(x) == 0:\n",
        "          return False\n",
        "\n",
        "    return True\n",
        "\n",
        "prime_numbers = [num for num in list if isPrime(num)]\n",
        "\n",
        "prime_numbers"
      ],
      "metadata": {
        "colab": {
          "base_uri": "https://localhost:8080/"
        },
        "id": "-lJpH4jJNlwq",
        "outputId": "051d0541-29c9-42f8-8e08-e9501828ed83"
      },
      "execution_count": 71,
      "outputs": [
        {
          "output_type": "execute_result",
          "data": {
            "text/plain": [
              "[233, 233, 277, 101, 197, 647, 509, 839, 727, 151, 241]"
            ]
          },
          "metadata": {},
          "execution_count": 71
        }
      ]
    },
    {
      "cell_type": "markdown",
      "source": [
        "Q7. D is a dictionary defined as D={1:\"One\",2:\"Two\",3:\"Three\",4:\"Four\", 5:\"Five\"}.\n",
        " WAP to read all the keys and values from dictionary and write to the file in the given below format.\n",
        "\n",
        "Key1, Value1\n",
        "\n",
        "Key2, Value2\n",
        "\n",
        "Key3, Value3\n"
      ],
      "metadata": {
        "id": "7UMgzQtLS3tU"
      }
    },
    {
      "cell_type": "code",
      "source": [
        "D={1:\"One\",2:\"Two\",3:\"Three\",4:\"Four\", 5:\"Five\"}\n",
        "\n",
        "with open(\"output.txt\", \"w\") as file:\n",
        "    for key, value in D.items():\n",
        "        file.write(f\"{key}, {value}\\n\")"
      ],
      "metadata": {
        "id": "0VBGfvCETKW2"
      },
      "execution_count": 77,
      "outputs": []
    },
    {
      "cell_type": "markdown",
      "source": [
        "Q8. L is a list defined as L={\"One\",\"Two\",\"Three\",\"Four\",\"Five\"}.\n",
        " WAP to count the length of reach element from a list and write to the file in the given below format:\n",
        "\n",
        "One, 3\n",
        "\n",
        "Two, 3\n",
        "\n",
        "Four, 4"
      ],
      "metadata": {
        "id": "lNxpj7fnUlwo"
      }
    },
    {
      "cell_type": "code",
      "source": [
        "L={\"One\",\"Two\",\"Three\",\"Four\",\"Five\"}\n",
        "\n",
        "with open(\"output.txt\", \"w\") as file:\n",
        "    for chr in L:\n",
        "        file.write(f\"{chr}, {len(chr)}\\n\")"
      ],
      "metadata": {
        "id": "3o2Uh5arUvxb"
      },
      "execution_count": 80,
      "outputs": []
    },
    {
      "cell_type": "markdown",
      "source": [
        "Q9. Write to the file 100 random strings whose length between 10 and 15."
      ],
      "metadata": {
        "id": "g4JOijQfVbYg"
      }
    },
    {
      "cell_type": "code",
      "source": [
        "import random\n",
        "import string\n",
        "\n",
        "def generate_random_string(min_length, max_length):\n",
        "    length = random.randint(min_length, max_length)\n",
        "    letters = string.ascii_lowercase\n",
        "    return ''.join(random.choice(letters) for _ in range(length))\n",
        "\n",
        "with open(\"output.txt\", \"w\") as file:\n",
        "    for _ in range(100):\n",
        "        random_string = generate_random_string(10, 15)\n",
        "        file.write(random_string + \"\\n\")"
      ],
      "metadata": {
        "id": "1K8pPuclViDa"
      },
      "execution_count": 83,
      "outputs": []
    },
    {
      "cell_type": "markdown",
      "source": [
        "Q10. Write to the file all prime numbers between 600 and 800."
      ],
      "metadata": {
        "id": "2h8gVV20YAi-"
      }
    },
    {
      "cell_type": "code",
      "source": [
        "def is_prime(num):\n",
        "    if num <= 1:\n",
        "        return False\n",
        "    for i in range(2, int(num**0.5) + 1):\n",
        "        if num % i == 0:\n",
        "            return False\n",
        "    return True\n",
        "\n",
        "start_range = 600\n",
        "end_range = 800\n",
        "with open(\"output.txt\", \"w\") as file:\n",
        "  for num in range(start_range, end_range + 1):\n",
        "      if is_prime(num):\n",
        "        file.write(str(num) + \"\\n\")"
      ],
      "metadata": {
        "id": "Rpu5QIJWYKJF"
      },
      "execution_count": 92,
      "outputs": []
    },
    {
      "cell_type": "markdown",
      "source": [
        "Q11. WAP to calculate the time taken by a program"
      ],
      "metadata": {
        "id": "duuMCxbdaOJY"
      }
    },
    {
      "cell_type": "code",
      "source": [
        "import time\n",
        "\n",
        "# Function to calculate the sum of numbers from 1 to n\n",
        "def sum_numbers(n):\n",
        "    total = 0\n",
        "    for i in range(1, n + 1):\n",
        "        total += i\n",
        "    return total\n",
        "\n",
        "start_time = time.time()\n",
        "\n",
        "result = sum_numbers(1000000)\n",
        "\n",
        "end_time = time.time()\n",
        "\n",
        "elapsed_time = end_time - start_time\n",
        "\n",
        "print(\"Result:\", result)\n",
        "print(\"Time taken:\", elapsed_time, \"seconds\")\n"
      ],
      "metadata": {
        "colab": {
          "base_uri": "https://localhost:8080/"
        },
        "id": "2nNnYzvbaSh4",
        "outputId": "7fd576be-0a17-4116-e1b2-be2ac8c02d32"
      },
      "execution_count": 100,
      "outputs": [
        {
          "output_type": "stream",
          "name": "stdout",
          "text": [
            "Result: 500000500000\n",
            "Time taken: 0.07697558403015137 seconds\n"
          ]
        }
      ]
    },
    {
      "cell_type": "markdown",
      "source": [
        "Q12. WAP to sort following number of elements in a list, calculate time taken and plot the graph.\n",
        "\n",
        "Number of elements in list        Time Taken\n",
        "\n",
        "      5k                            T1\n",
        "\n",
        "      10k                           T2\n",
        "\n",
        "      15k                           T3\n",
        "\n",
        "      20k                           T4\n",
        "\n",
        "      25k                           T5"
      ],
      "metadata": {
        "id": "SaNQRBqVbJr8"
      }
    },
    {
      "cell_type": "markdown",
      "source": [
        "**The code for this question is in other Repository**\n",
        "**named \"Comparison of time taken for sorting list \"**"
      ],
      "metadata": {
        "id": "IR61c8bFh64g"
      }
    },
    {
      "cell_type": "markdown",
      "source": [
        "Q13. WAP to create a dictionary of student marks in five subjects and you have to find the student\n",
        " having maximum and minimum average marks."
      ],
      "metadata": {
        "id": "dgxC6S7CfgWl"
      }
    },
    {
      "cell_type": "code",
      "source": [
        "def calculate_average(marks):\n",
        "    return sum(marks) / len(marks)\n",
        "\n",
        "student_marks = {\n",
        "    \"Aryan\": [90, 85, 78, 92, 88],\n",
        "    \"Bhavish\": [78, 82, 80, 70, 85],\n",
        "    \"Chandan\": [95, 88, 92, 85, 90],\n",
        "    \"Dev\": [85, 75, 80, 90, 78],\n",
        "    \"Emaira\": [92, 90, 87, 88, 95]\n",
        "}\n",
        "\n",
        "# Calculating the average marks for each student\n",
        "average_marks = {name: calculate_average(marks) for name, marks in student_marks.items()}\n",
        "\n",
        "max_student = max(average_marks, key=average_marks.get)\n",
        "min_student = min(average_marks, key=average_marks.get)\n",
        "\n",
        "print(\"Student with Maximum Average Marks:\")\n",
        "print(f\"{max_student}: {average_marks[max_student]}\")\n",
        "\n",
        "print(\"\\nStudent with Minimum Average Marks:\")\n",
        "print(f\"{min_student}: {average_marks[min_student]}\")\n"
      ],
      "metadata": {
        "colab": {
          "base_uri": "https://localhost:8080/"
        },
        "id": "4WB8BcbpfjiU",
        "outputId": "925dec97-61dc-461d-f34e-a358652cd76f"
      },
      "execution_count": 102,
      "outputs": [
        {
          "output_type": "stream",
          "name": "stdout",
          "text": [
            "Student with Maximum Average Marks:\n",
            "Emaira: 90.4\n",
            "\n",
            "Student with Minimum Average Marks:\n",
            "Bhavish: 79.0\n"
          ]
        }
      ]
    }
  ]
}